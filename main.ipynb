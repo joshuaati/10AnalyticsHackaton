{
 "cells": [
  {
   "cell_type": "code",
   "execution_count": null,
   "metadata": {},
   "outputs": [],
   "source": [
    "import pandas as pd\n",
    "import numpy as np\n",
    "import matplotlib.pyplot as plt\n",
    "import seaborn as sns\n"
   ]
  },
  {
   "cell_type": "code",
   "execution_count": null,
   "metadata": {},
   "outputs": [],
   "source": [
    "#import all dataframes\n",
    "codeath_df = pd.read_csv('datasets//1. annual-number-of-deaths-by-cause.csv')\n",
    "nodeathbyage_df = pd.read_csv('datasets//2. number-of-deaths-by-age-group.csv')\n",
    "medper1000_df = pd.read_csv('datasets//3. Medical Doctors Per 10000 population.csv')\n",
    "countries_df = pd.read_csv('datasets//4. ISO 3166_country-and-continent-codes-list-csv.csv')\n",
    "worldpop_df = pd.read_csv('datasets//5. World Population.csv')\n",
    "cexpenditure_df = pd.read_csv('datasets//6. Current health expenditure (% of GDP).csv')"
   ]
  },
  {
   "cell_type": "code",
   "execution_count": null,
   "metadata": {},
   "outputs": [],
   "source": [
    "#query the first ten columns\n",
    "codeath_df.head(10)"
   ]
  },
  {
   "cell_type": "code",
   "execution_count": null,
   "metadata": {},
   "outputs": [],
   "source": [
    "#query the first five columns\n",
    "nodeathbyage_df.head(5)"
   ]
  },
  {
   "cell_type": "code",
   "execution_count": null,
   "metadata": {},
   "outputs": [],
   "source": [
    "#query the first five columns\n",
    "medper1000_df.head()"
   ]
  },
  {
   "cell_type": "code",
   "execution_count": null,
   "metadata": {},
   "outputs": [],
   "source": [
    "#query the first five columns\n",
    "countries_df.head()"
   ]
  },
  {
   "cell_type": "code",
   "execution_count": null,
   "metadata": {},
   "outputs": [],
   "source": [
    "#query the first twenty columns\n",
    "worldpop_df.head(20)"
   ]
  },
  {
   "cell_type": "code",
   "execution_count": null,
   "metadata": {},
   "outputs": [],
   "source": [
    "#select only african countries\n",
    "african_countries = countries_df[countries_df['Continent_Name']=='Africa']"
   ]
  },
  {
   "cell_type": "code",
   "execution_count": null,
   "metadata": {},
   "outputs": [],
   "source": [
    "#rename column in the dataset\n",
    "african_countries.rename(columns = {'Three_Letter_Country_Code':'Country_Code'}, inplace = True)\n"
   ]
  },
  {
   "cell_type": "code",
   "execution_count": null,
   "metadata": {},
   "outputs": [],
   "source": [
    "#select years from 1980 and above\n",
    "worldpop_df = worldpop_df[worldpop_df['Year'] >= 1980]"
   ]
  },
  {
   "cell_type": "code",
   "execution_count": null,
   "metadata": {},
   "outputs": [],
   "source": [
    "#query the first five columns\n",
    "cexpenditure_df.head()"
   ]
  },
  {
   "cell_type": "code",
   "execution_count": null,
   "metadata": {},
   "outputs": [],
   "source": [
    "#convert the data to long format\n",
    "cexpenditure_df_long = pd.melt(cexpenditure_df, id_vars=['Country Name', 'Country Code'], value_vars=['2000','2001', '2002', '2003', '2004', '2005', '2006', '2007', '2008', '2009', '2010', '2011', '2012', '2013', '2014', '2015', '2016', '2017', '2018', '2019', '2020', '2021'], value_name=\"expenditure\", ignore_index=False)\n",
    "cexpenditure_df_long"
   ]
  },
  {
   "cell_type": "code",
   "execution_count": null,
   "metadata": {},
   "outputs": [],
   "source": [
    "#african countries cause of death\n",
    "cod_in_afr = codeath_df.merge(african_countries[['Country_Name','Country_Code', 'African_Region']], left_on='Code', right_on='Country_Code', how='right')\n",
    "cod_in_afr"
   ]
  },
  {
   "cell_type": "code",
   "execution_count": null,
   "metadata": {},
   "outputs": [],
   "source": [
    "#change the year to int\n",
    "cod_in_afr = cod_in_afr.dropna(subset=['Year'])\n",
    "cod_in_afr['Year'] = cod_in_afr['Year'].astype(int)"
   ]
  },
  {
   "cell_type": "code",
   "execution_count": null,
   "metadata": {},
   "outputs": [],
   "source": [
    "#check for changes\n",
    "cod_in_afr.head(2)"
   ]
  },
  {
   "cell_type": "code",
   "execution_count": null,
   "metadata": {},
   "outputs": [],
   "source": [
    "#extract data to csv\n",
    "cod_in_afr.to_csv('outputs//cause_of_death_africa.csv')"
   ]
  },
  {
   "cell_type": "code",
   "execution_count": null,
   "metadata": {},
   "outputs": [],
   "source": [
    "#african countries death by age dataset\n",
    "no_death_age_africa= nodeathbyage_df.merge(african_countries[['Country_Name','Country_Code', 'African_Region']], left_on='Code', right_on='Country_Code', how='right')\n",
    "no_death_age_africa"
   ]
  },
  {
   "cell_type": "code",
   "execution_count": null,
   "metadata": {},
   "outputs": [],
   "source": [
    "#change year dtype to int\n",
    "no_death_age_africa = no_death_age_africa.dropna(subset=['Year'])\n",
    "no_death_age_africa['Year'] = no_death_age_africa['Year'].astype('int')\n",
    "no_death_age_africa['Year'].isnull().sum()\n",
    "\n",
    "#rename columns for clarity\n",
    "no_death_age_africa.rename(columns = {'Deaths 70+ years':'70+ years', 'Deaths 50-69 years':'50-69 years', 'Deaths Age: 15-49 years':'15-49 years', 'Deaths 5-14 years':'5-14 years', 'Deaths Under 5':'Under 5 years'}, inplace = True)\n",
    "no_death_age_africa"
   ]
  },
  {
   "cell_type": "code",
   "execution_count": null,
   "metadata": {},
   "outputs": [],
   "source": [
    "#extract data to csv\n",
    "no_death_age_africa.to_csv('outputs//number_of_death_by_age_group_africa.csv')"
   ]
  },
  {
   "cell_type": "code",
   "execution_count": null,
   "metadata": {},
   "outputs": [],
   "source": [
    "#african countries personnel per 10000 dataset\n",
    "med_per_100_africa = medper1000_df.merge(african_countries[['Country_Name','Country_Code', 'African_Region']], left_on='ThreeLocCode', right_on='Country_Code', how='right')\n",
    "med_per_100_africa"
   ]
  },
  {
   "cell_type": "code",
   "execution_count": null,
   "metadata": {},
   "outputs": [],
   "source": [
    "#convert the date to int\n",
    "med_per_100_africa = med_per_100_africa.dropna(subset=['Period'])\n",
    "med_per_100_africa['Period'] = med_per_100_africa['Period'].astype('int')\n",
    "\n",
    "#drop irrelevant columns\n",
    "med_per_100_africa.drop(columns=['ParentLocationCode', 'ParentLocation'], inplace=True)\n",
    "med_per_100_africa.sample(2)"
   ]
  },
  {
   "cell_type": "code",
   "execution_count": null,
   "metadata": {},
   "outputs": [],
   "source": [
    "#extract data to csv\n",
    "med_per_100_africa.to_csv('outputs//medical_personnel_per_1000_africa.csv')"
   ]
  },
  {
   "cell_type": "code",
   "execution_count": null,
   "metadata": {},
   "outputs": [],
   "source": [
    "#getting the population in african countries\n",
    "africa_pop = worldpop_df.merge(african_countries[['Country_Name','Country_Code', 'African_Region']], left_on='Code', right_on='Country_Code', how='right')\n",
    "africa_pop"
   ]
  },
  {
   "cell_type": "code",
   "execution_count": null,
   "metadata": {},
   "outputs": [],
   "source": [
    "africa_pop.to_csv('outputs//africa_population.csv')"
   ]
  },
  {
   "cell_type": "code",
   "execution_count": null,
   "metadata": {},
   "outputs": [],
   "source": [
    "#african medical expenditure \n",
    "africa_expenditure = cexpenditure_df_long.merge(african_countries[['Country_Name','Country_Code', 'African_Region']], left_on='Country Code', right_on='Country_Code', how='right')\n",
    "africa_expenditure.rename(columns={'variable':'Year'}, inplace= True)\n",
    "africa_expenditure"
   ]
  },
  {
   "cell_type": "code",
   "execution_count": null,
   "metadata": {},
   "outputs": [],
   "source": [
    "africa_expenditure.to_csv('outputs//medical_expenditure_africa.csv')"
   ]
  },
  {
   "cell_type": "code",
   "execution_count": null,
   "metadata": {},
   "outputs": [],
   "source": []
  },
  {
   "cell_type": "code",
   "execution_count": null,
   "metadata": {},
   "outputs": [],
   "source": [
    "most_adv_country = countries_df[countries_df['Three_Letter_Country_Code']=='USA']"
   ]
  },
  {
   "cell_type": "code",
   "execution_count": null,
   "metadata": {},
   "outputs": [],
   "source": [
    "#rename column in the dataset\n",
    "most_adv_country.rename(columns = {'Three_Letter_Country_Code':'Country_Code'}, inplace = True)\n",
    "\n",
    "most_adv_country"
   ]
  },
  {
   "cell_type": "code",
   "execution_count": null,
   "metadata": {},
   "outputs": [],
   "source": [
    "cod_in_us = codeath_df.merge(most_adv_country[['Country_Name','Country_Code', 'African_Region']], left_on='Code', right_on='Country_Code', how='right')\n",
    "#change the year to int\n",
    "cod_in_us = cod_in_us.dropna(subset=['Year'])\n",
    "cod_in_us['Year'] = cod_in_us['Year'].astype(int)"
   ]
  },
  {
   "cell_type": "code",
   "execution_count": null,
   "metadata": {},
   "outputs": [],
   "source": [
    "#extract data to csv\n",
    "cod_in_us.to_csv('outputs//cause_of_death_US.csv')"
   ]
  },
  {
   "cell_type": "code",
   "execution_count": null,
   "metadata": {},
   "outputs": [],
   "source": [
    "#US death by age dataset\n",
    "no_death_age_us= nodeathbyage_df.merge(most_adv_country[['Country_Name','Country_Code', 'African_Region']], left_on='Code', right_on='Country_Code', how='right')\n",
    "no_death_age_us"
   ]
  },
  {
   "cell_type": "code",
   "execution_count": null,
   "metadata": {},
   "outputs": [],
   "source": [
    "#change year dtype to int\n",
    "no_death_age_us = no_death_age_us.dropna(subset=['Year'])\n",
    "no_death_age_us['Year'] = no_death_age_us['Year'].astype('int')\n",
    "no_death_age_us['Year'].isnull().sum()\n",
    "\n",
    "#rename columns for clarity\n",
    "no_death_age_us.rename(columns = {'Deaths 70+ years':'70+ years', 'Deaths 50-69 years':'50-69 years', 'Deaths Age: 15-49 years':'15-49 years', 'Deaths 5-14 years':'5-14 years', 'Deaths Under 5':'Under 5 years'}, inplace = True)\n",
    "no_death_age_us"
   ]
  },
  {
   "cell_type": "code",
   "execution_count": null,
   "metadata": {},
   "outputs": [],
   "source": [
    "#extract data to csv\n",
    "no_death_age_us.to_csv('outputs//number_of_death_by_age_group_US.csv')"
   ]
  },
  {
   "cell_type": "code",
   "execution_count": null,
   "metadata": {},
   "outputs": [],
   "source": [
    "#US personnel per 10000 dataset\n",
    "med_per_100_US = medper1000_df.merge(most_adv_country[['Country_Name','Country_Code', 'African_Region']], left_on='ThreeLocCode', right_on='Country_Code', how='right')\n",
    "# med_per_100_US"
   ]
  },
  {
   "cell_type": "code",
   "execution_count": null,
   "metadata": {},
   "outputs": [],
   "source": [
    "#convert the date to int\n",
    "med_per_100_US = med_per_100_US.dropna(subset=['Period'])\n",
    "med_per_100_US['Period'] = med_per_100_US['Period'].astype('int')\n",
    "\n",
    "#drop irrelevant columns\n",
    "med_per_100_US.drop(columns=['ParentLocationCode', 'ParentLocation'], inplace=True)\n",
    "med_per_100_US.sample(2)"
   ]
  },
  {
   "cell_type": "code",
   "execution_count": null,
   "metadata": {},
   "outputs": [],
   "source": [
    "#extract data to csv\n",
    "med_per_100_US.to_csv('outputs//medical_personnel_per_1000_US.csv')"
   ]
  },
  {
   "cell_type": "code",
   "execution_count": null,
   "metadata": {},
   "outputs": [],
   "source": [
    "#getting the population in US\n",
    "US_pop = worldpop_df.merge(most_adv_country[['Country_Name','Country_Code', 'African_Region']], left_on='Code', right_on='Country_Code', how='right')\n",
    "US_pop"
   ]
  },
  {
   "cell_type": "code",
   "execution_count": null,
   "metadata": {},
   "outputs": [],
   "source": [
    "US_pop.to_csv('outputs//US_population.csv')"
   ]
  },
  {
   "cell_type": "code",
   "execution_count": null,
   "metadata": {},
   "outputs": [],
   "source": [
    "#US medical expenditure \n",
    "US_expenditure = cexpenditure_df_long.merge(african_countries[['Country_Name','Country_Code', 'African_Region']], left_on='Country Code', right_on='Country_Code', how='right')\n",
    "US_expenditure.rename(columns={'variable':'Year'}, inplace= True)\n"
   ]
  },
  {
   "cell_type": "code",
   "execution_count": null,
   "metadata": {},
   "outputs": [],
   "source": [
    "US_expenditure.to_csv('outputs//medical_expenditure_US.csv')"
   ]
  }
 ],
 "metadata": {
  "kernelspec": {
   "display_name": "Python 3.9.12 ('base')",
   "language": "python",
   "name": "python3"
  },
  "language_info": {
   "codemirror_mode": {
    "name": "ipython",
    "version": 3
   },
   "file_extension": ".py",
   "mimetype": "text/x-python",
   "name": "python",
   "nbconvert_exporter": "python",
   "pygments_lexer": "ipython3",
   "version": "3.9.12"
  },
  "orig_nbformat": 4,
  "vscode": {
   "interpreter": {
    "hash": "ad2bdc8ecc057115af97d19610ffacc2b4e99fae6737bb82f5d7fb13d2f2c186"
   }
  }
 },
 "nbformat": 4,
 "nbformat_minor": 2
}
