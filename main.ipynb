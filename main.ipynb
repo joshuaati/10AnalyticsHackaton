{
 "cells": [
  {
   "cell_type": "code",
   "execution_count": null,
   "metadata": {},
   "outputs": [],
   "source": [
    "import pandas as pd\n",
    "import numpy as np\n",
    "import matplotlib.pyplot as plt\n",
    "import seaborn as sns\n"
   ]
  },
  {
   "cell_type": "code",
   "execution_count": null,
   "metadata": {},
   "outputs": [],
   "source": [
    "#import all dataframes\n",
    "codeath_df = pd.read_csv('datasets//1. annual-number-of-deaths-by-cause.csv')\n",
    "nodeathbyage_df = pd.read_csv('datasets//2. number-of-deaths-by-age-group.csv')\n",
    "medper1000_df = pd.read_csv('datasets//3. Medical Doctors Per 10000 population.csv')\n",
    "countries_df = pd.read_csv('datasets//4. ISO 3166_country-and-continent-codes-list-csv.csv')\n",
    "worldpop_df = pd.read_csv('datasets//5. World Population.csv')\n",
    "cexpenditure_df = pd.read_csv('datasets//6. Current health expenditure (% of GDP).csv')"
   ]
  },
  {
   "cell_type": "code",
   "execution_count": null,
   "metadata": {},
   "outputs": [],
   "source": [
    "#query the first ten columns\n",
    "codeath_df.head(10)"
   ]
  },
  {
   "cell_type": "code",
   "execution_count": null,
   "metadata": {},
   "outputs": [],
   "source": [
    "#query the first five columns\n",
    "nodeathbyage_df.head(5)"
   ]
  },
  {
   "cell_type": "code",
   "execution_count": null,
   "metadata": {},
   "outputs": [],
   "source": [
    "#query the first five columns\n",
    "medper1000_df.head()"
   ]
  },
  {
   "cell_type": "code",
   "execution_count": null,
   "metadata": {},
   "outputs": [],
   "source": [
    "#query the first five columns\n",
    "countries_df.head()"
   ]
  },
  {
   "cell_type": "code",
   "execution_count": null,
   "metadata": {},
   "outputs": [],
   "source": [
    "#query the first twenty columns\n",
    "worldpop_df.head(20)"
   ]
  },
  {
   "cell_type": "code",
   "execution_count": null,
   "metadata": {},
   "outputs": [],
   "source": [
    "#select only african countries\n",
    "african_countries = countries_df[countries_df['Continent_Name']=='Africa']"
   ]
  },
  {
   "cell_type": "code",
   "execution_count": null,
   "metadata": {},
   "outputs": [],
   "source": [
    "#rename column in the dataset\n",
    "african_countries.rename(columns = {'Three_Letter_Country_Code':'Country_Code'}, inplace = True)\n"
   ]
  },
  {
   "cell_type": "code",
   "execution_count": null,
   "metadata": {},
   "outputs": [],
   "source": [
    "#select years from 1980 and above\n",
    "worldpop_df = worldpop_df[worldpop_df['Year'] >= 1980]"
   ]
  },
  {
   "cell_type": "code",
   "execution_count": null,
   "metadata": {},
   "outputs": [],
   "source": [
    "#query the first five columns\n",
    "cexpenditure_df.head()"
   ]
  },
  {
   "cell_type": "code",
   "execution_count": null,
   "metadata": {},
   "outputs": [],
   "source": [
    "# value_vars_list = list(cexpenditure_df.columns\n",
    "cexpenditure_df_long = pd.melt(cexpenditure_df, id_vars=['Country Name', 'Country Code'], value_vars=['2000','2001', '2002', '2003', '2004', '2005', '2006', '2007', '2008', '2009', '2010', '2011', '2012', '2013', '2014', '2015', '2016', '2017', '2018', '2019', '2020', '2021'], value_name=\"expenditure\", ignore_index=False)\n",
    "cexpenditure_df_long"
   ]
  },
  {
   "cell_type": "code",
   "execution_count": null,
   "metadata": {},
   "outputs": [],
   "source": [
    "cod_in_afr = codeath_df.merge(african_countries[['Country_Name','Country_Code', 'African_Region']], left_on='Code', right_on='Country_Code', how='right')\n",
    "cod_in_afr"
   ]
  },
  {
   "cell_type": "code",
   "execution_count": null,
   "metadata": {},
   "outputs": [],
   "source": [
    "# cod_in_afr\n",
    "cod_in_afr = cod_in_afr.dropna(subset=['Year'])\n",
    "cod_in_afr['Year'] = cod_in_afr['Year'].astype(int)"
   ]
  },
  {
   "cell_type": "code",
   "execution_count": null,
   "metadata": {},
   "outputs": [],
   "source": [
    "cod_in_afr.head(2)"
   ]
  },
  {
   "cell_type": "code",
   "execution_count": null,
   "metadata": {},
   "outputs": [],
   "source": [
    "no_death_age_africa= nodeathbyage_df.merge(african_countries[['Country_Name','Country_Code', 'African_Region']], left_on='Code', right_on='Country_Code', how='right')\n",
    "no_death_age_africa"
   ]
  },
  {
   "cell_type": "code",
   "execution_count": null,
   "metadata": {},
   "outputs": [],
   "source": [
    "no_death_age_africa = no_death_age_africa.dropna(subset=['Year'])\n",
    "no_death_age_africa['Year'] = no_death_age_africa['Year'].astype('int')\n",
    "no_death_age_africa['Year'].isnull().sum()\n",
    "no_death_age_africa.rename(columns = {'Deaths 70+ years':'70+ years', 'Deaths 50-69 years':'50-69 years', 'Deaths Age: 15-49 years':'15-49 years', 'Deaths 5-14 years':'5-14 years', 'Deaths Under 5':'Under 5 years'}, inplace = True)\n",
    "no_death_age_africa"
   ]
  },
  {
   "cell_type": "code",
   "execution_count": null,
   "metadata": {},
   "outputs": [],
   "source": [
    "med_per_100_africa = medper1000_df.merge(african_countries[['Country_Name','Country_Code', 'African_Region']], left_on='ThreeLocCode', right_on='Country_Code', how='right')\n",
    "med_per_100_africa"
   ]
  },
  {
   "cell_type": "code",
   "execution_count": null,
   "metadata": {},
   "outputs": [],
   "source": [
    "\n",
    "med_per_100_africa = med_per_100_africa.dropna(subset=['Period'])\n",
    "med_per_100_africa['Period'] = med_per_100_africa['Period'].astype('int')\n",
    "med_per_100_africa.drop(columns=['ParentLocationCode', 'ParentLocation'], inplace=True)\n",
    "med_per_100_africa.sample(2)"
   ]
  },
  {
   "cell_type": "code",
   "execution_count": null,
   "metadata": {},
   "outputs": [],
   "source": [
    "africa_pop = worldpop_df.merge(african_countries[['Country_Name','Country_Code', 'African_Region']], left_on='Code', right_on='Country_Code', how='right')\n",
    "africa_pop"
   ]
  },
  {
   "cell_type": "code",
   "execution_count": null,
   "metadata": {},
   "outputs": [],
   "source": [
    "africa_expenditure = cexpenditure_df_long.merge(african_countries[['Country_Name','Country_Code', 'African_Region']], left_on='Country Code', right_on='Country_Code', how='right')\n",
    "africa_expenditure"
   ]
  },
  {
   "cell_type": "code",
   "execution_count": null,
   "metadata": {},
   "outputs": [],
   "source": []
  }
 ],
 "metadata": {
  "kernelspec": {
   "display_name": "Python 3.9.12 ('base')",
   "language": "python",
   "name": "python3"
  },
  "language_info": {
   "codemirror_mode": {
    "name": "ipython",
    "version": 3
   },
   "file_extension": ".py",
   "mimetype": "text/x-python",
   "name": "python",
   "nbconvert_exporter": "python",
   "pygments_lexer": "ipython3",
   "version": "3.9.12"
  },
  "orig_nbformat": 4,
  "vscode": {
   "interpreter": {
    "hash": "ad2bdc8ecc057115af97d19610ffacc2b4e99fae6737bb82f5d7fb13d2f2c186"
   }
  }
 },
 "nbformat": 4,
 "nbformat_minor": 2
}
